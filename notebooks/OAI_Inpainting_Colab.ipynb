{
 "cells": [
  {
   "cell_type": "markdown",
   "metadata": {},
   "source": [
    "# OAI X-ray Inpainting - Google Colab\n",
    "\n",
    "This notebook provides a complete environment for training and testing inpainting models on the OAI dataset.\n",
    "\n",
    "## 🚀 Quick Start\n",
    "\n",
    "1. **Setup Environment** - Run the setup cell below\n",
    "2. **Upload Data** - Upload your OAI dataset files\n",
    "3. **Train Models** - Run training for AOT-GAN, ICT, or RePaint\n",
    "4. **Test Models** - Evaluate model performance\n",
    "5. **Download Results** - Save results to your local machine\n",
    "\n",
    "---\n"
   ]
  },
  {
   "cell_type": "markdown",
   "metadata": {},
   "source": [
    "## 🔧 Environment Setup\n"
   ]
  },
  {
   "cell_type": "code",
   "execution_count": null,
   "metadata": {},
   "outputs": [],
   "source": [
    "# Check GPU availability\n",
    "import torch\n",
    "\n",
    "print(f\"PyTorch version: {torch.__version__}\")\n",
    "print(f\"CUDA available: {torch.cuda.is_available()}\")\n",
    "if torch.cuda.is_available():\n",
    "    print(f\"GPU: {torch.cuda.get_device_name(0)}\")\n",
    "    print(f\"CUDA version: {torch.version.cuda}\")"
   ]
  },
  {
   "cell_type": "code",
   "execution_count": null,
   "metadata": {},
   "outputs": [],
   "source": [
    "# Clone repository and install dependencies\n",
    "import os\n",
    "import subprocess\n",
    "from pathlib import Path\n",
    "\n",
    "# Clone the repository\n",
    "if not Path(\"OAI-inpainting\").exists():\n",
    "    print(\"📥 Cloning repository...\")\n",
    "    subprocess.run(\n",
    "        [\"git\", \"clone\", \"https://github.com/johnreynolds3d/OAI-inpainting.git\"],\n",
    "        check=True,\n",
    "    )\n",
    "else:\n",
    "    print(\"📁 Repository already exists, updating...\")\n",
    "    os.chdir(\"OAI-inpainting\")\n",
    "    subprocess.run([\"git\", \"pull\"], check=True)\n",
    "    os.chdir(\"..\")\n",
    "\n",
    "# Change to project directory\n",
    "os.chdir(\"OAI-inpainting\")\n",
    "print(f\"📂 Current directory: {Path.cwd()}\")\n",
    "\n",
    "# Install dependencies\n",
    "print(\"📦 Installing dependencies...\")\n",
    "subprocess.run([\"pip\", \"install\", \"-e\", \".[dev,ml]\"], check=True)\n",
    "\n",
    "print(\"✅ Setup complete!\")"
   ]
  },
  {
   "cell_type": "code",
   "execution_count": null,
   "metadata": {},
   "outputs": [],
   "source": [
    "# Verify installation\n",
    "try:\n",
    "    from src.paths import get_project_root\n",
    "\n",
    "    print(\"✅ Core modules imported successfully\")\n",
    "    print(f\"📁 Project root: {get_project_root()}\")\n",
    "except ImportError as e:\n",
    "    print(f\"❌ Import error: {e}\")\n",
    "\n",
    "# Check available models\n",
    "models_dir = Path(\"models\")\n",
    "if models_dir.exists():\n",
    "    print(\"\\n📋 Available models:\")\n",
    "    for model in models_dir.iterdir():\n",
    "        if model.is_dir():\n",
    "            print(f\"  - {model.name}\")\n",
    "else:\n",
    "    print(\"❌ Models directory not found\")"
   ]
  },
  {
   "cell_type": "markdown",
   "metadata": {},
   "source": [
    "## 🔄 Update Repository\n"
   ]
  },
  {
   "cell_type": "code",
   "execution_count": null,
   "metadata": {},
   "outputs": [],
   "source": [
    "# Update repository to latest version\n",
    "print(\"🔄 Updating repository...\")\n",
    "\n",
    "try:\n",
    "    # Fetch latest changes\n",
    "    subprocess.run([\"git\", \"fetch\"], check=True)\n",
    "\n",
    "    # Check for updates\n",
    "    result = subprocess.run(\n",
    "        [\"git\", \"status\", \"-uno\"], check=False, capture_output=True, text=True\n",
    "    )\n",
    "    print(\"📋 Repository status:\")\n",
    "    print(result.stdout)\n",
    "\n",
    "    # Pull latest changes\n",
    "    subprocess.run([\"git\", \"pull\"], check=True)\n",
    "    print(\"✅ Repository updated to latest version\")\n",
    "\n",
    "    # Reinstall dependencies if needed\n",
    "    print(\"📦 Reinstalling dependencies...\")\n",
    "    subprocess.run([\"pip\", \"install\", \"-e\", \".[dev,ml]\"], check=True)\n",
    "    print(\"✅ Dependencies updated\")\n",
    "\n",
    "except Exception as e:\n",
    "    print(f\"❌ Update failed: {e}\")\n",
    "    print(\"💡 You may need to restart the runtime and re-run the setup cell.\")"
   ]
  }
 ],
 "metadata": {
  "language_info": {
   "name": "python"
  }
 },
 "nbformat": 4,
 "nbformat_minor": 2
}
